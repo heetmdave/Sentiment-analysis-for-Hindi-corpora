{
 "cells": [
  {
   "cell_type": "code",
   "execution_count": null,
   "id": "1a7f8b68",
   "metadata": {},
   "outputs": [],
   "source": [
    "import pandas as pd\n",
    "\n",
    "df=pd.read_csv(\"Datasets/train_temp.csv\", encoding=\"ISO-8859-1\")"
   ]
  },
  {
   "cell_type": "code",
   "execution_count": null,
   "id": "acd5cfb4",
   "metadata": {},
   "outputs": [],
   "source": [
    "!pip install googletrans==4.0.0-rc1\n"
   ]
  },
  {
   "cell_type": "code",
   "execution_count": null,
   "id": "883db1ac",
   "metadata": {},
   "outputs": [],
   "source": [
    "import pandas as pd\n",
    "from googletrans import Translator\n",
    "import os\n",
    "\n",
    "# Load your CSV (adjust encoding if needed)\n",
    "# df = pd.read_csv(\"Datasets/train.csv\", encoding=\"utf-8\")\n",
    "\n",
    "# Initialize translator\n",
    "translator = Translator()\n",
    "\n",
    "# Output file\n",
    "output_file = \"translated_hindi_tweets20000_onwards.csv\"\n",
    "\n",
    "# If output already exists, load progress\n",
    "if os.path.exists(output_file):\n",
    "    result_df = pd.read_csv(output_file, encoding=\"utf-8-sig\")\n",
    "    translated_indices = set(result_df.index)\n",
    "    print(f\" Loaded {len(translated_indices)} already translated rows.\")\n",
    "else:\n",
    "    result_df = pd.DataFrame(columns=[\"text_hindi\", \"sentiment\"])\n",
    "    translated_indices = set()\n",
    "\n",
    "# Iterate through rows and translate on the fly\n",
    "for idx, row in df.iterrows():\n",
    "    if idx in translated_indices:\n",
    "        continue  # skip already translated rows\n",
    "\n",
    "    text = row[\"text\"]\n",
    "    sentiment = row[\"sentiment\"]\n",
    "\n",
    "    try:\n",
    "        translated = translator.translate(text, dest='hi').text\n",
    "    except Exception as e:\n",
    "        print(f\" Error translating row {idx}: {e}\")\n",
    "        translated = text  # fallback to original\n",
    "\n",
    "    # Append result\n",
    "    result_df = pd.concat([\n",
    "        result_df,\n",
    "        pd.DataFrame([{\"text_hindi\": translated, \"sentiment\": sentiment}], index=[idx])\n",
    "    ])\n",
    "\n",
    "    # Save after each translation\n",
    "    result_df.to_csv(output_file, index=False, encoding=\"utf-8-sig\")\n",
    "\n",
    "    print(f\" Row {idx} saved.\")\n",
    "\n",
    "print(\"🎉 All rows translated and saved.\")\n"
   ]
  }
 ],
 "metadata": {
  "language_info": {
   "name": "python"
  }
 },
 "nbformat": 4,
 "nbformat_minor": 5
}
